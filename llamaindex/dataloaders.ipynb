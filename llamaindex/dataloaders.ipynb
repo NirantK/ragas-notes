{
 "cells": [
  {
   "cell_type": "code",
   "execution_count": 1,
   "id": "5d75ef14",
   "metadata": {},
   "outputs": [
    {
     "name": "stdout",
     "output_type": "stream",
     "text": [
      "Collecting google-api-python-client\n",
      "  Downloading google_api_python_client-2.100.0-py2.py3-none-any.whl (12.2 MB)\n",
      "\u001b[2K     \u001b[38;2;114;156;31m━━━━━━━━━━━━━━━━━━━━━━━━━━━━━━━━━━━━━━━━\u001b[0m \u001b[32m12.2/12.2 MB\u001b[0m \u001b[31m3.8 MB/s\u001b[0m eta \u001b[36m0:00:00\u001b[0mm eta \u001b[36m0:00:01\u001b[0m[36m0:00:01\u001b[0m\n",
      "\u001b[?25hCollecting google-auth-httplib2\n",
      "  Downloading google_auth_httplib2-0.1.1-py2.py3-none-any.whl (9.3 kB)\n",
      "Collecting google-auth-oauthlib\n",
      "  Downloading google_auth_oauthlib-1.1.0-py2.py3-none-any.whl (19 kB)\n",
      "Collecting uritemplate<5,>=3.0.1\n",
      "  Using cached uritemplate-4.1.1-py2.py3-none-any.whl (10 kB)\n",
      "Collecting httplib2<1.dev0,>=0.15.0\n",
      "  Downloading httplib2-0.22.0-py3-none-any.whl (96 kB)\n",
      "\u001b[2K     \u001b[38;2;114;156;31m━━━━━━━━━━━━━━━━━━━━━━━━━━━━━━━━━━━━━━━━\u001b[0m \u001b[32m96.9/96.9 kB\u001b[0m \u001b[31m8.7 MB/s\u001b[0m eta \u001b[36m0:00:00\u001b[0m\n",
      "\u001b[?25hCollecting google-api-core!=2.0.*,!=2.1.*,!=2.2.*,!=2.3.0,<3.0.0.dev0,>=1.31.5\n",
      "  Using cached google_api_core-2.11.1-py3-none-any.whl (120 kB)\n",
      "Collecting google-auth<3.0.0.dev0,>=1.19.0\n",
      "  Downloading google_auth-2.23.0-py2.py3-none-any.whl (181 kB)\n",
      "\u001b[2K     \u001b[38;2;114;156;31m━━━━━━━━━━━━━━━━━━━━━━━━━━━━━━━━━━━━━━\u001b[0m \u001b[32m181.4/181.4 kB\u001b[0m \u001b[31m24.3 MB/s\u001b[0m eta \u001b[36m0:00:00\u001b[0m\n",
      "\u001b[?25hCollecting requests-oauthlib>=0.7.0\n",
      "  Using cached requests_oauthlib-1.3.1-py2.py3-none-any.whl (23 kB)\n",
      "Collecting protobuf!=3.20.0,!=3.20.1,!=4.21.0,!=4.21.1,!=4.21.2,!=4.21.3,!=4.21.4,!=4.21.5,<5.0.0.dev0,>=3.19.5\n",
      "  Downloading protobuf-4.24.3-cp37-abi3-manylinux2014_x86_64.whl (311 kB)\n",
      "\u001b[2K     \u001b[38;2;114;156;31m━━━━━━━━━━━━━━━━━━━━━━━━━━━━━━━━━━━━━━\u001b[0m \u001b[32m311.6/311.6 kB\u001b[0m \u001b[31m23.7 MB/s\u001b[0m eta \u001b[36m0:00:00\u001b[0m\n",
      "\u001b[?25hCollecting googleapis-common-protos<2.0.dev0,>=1.56.2\n",
      "  Downloading googleapis_common_protos-1.60.0-py2.py3-none-any.whl (227 kB)\n",
      "\u001b[2K     \u001b[38;2;114;156;31m━━━━━━━━━━━━━━━━━━━━━━━━━━━━━━━━━━━━━━\u001b[0m \u001b[32m227.6/227.6 kB\u001b[0m \u001b[31m28.3 MB/s\u001b[0m eta \u001b[36m0:00:00\u001b[0m\n",
      "\u001b[?25hRequirement already satisfied: requests<3.0.0.dev0,>=2.18.0 in /home/jjmachan/.pyenv/versions/3.10.12/envs/notes/lib/python3.10/site-packages (from google-api-core!=2.0.*,!=2.1.*,!=2.2.*,!=2.3.0,<3.0.0.dev0,>=1.31.5->google-api-python-client->-r /home/jjmachan/.pyenv/versions/3.10.12/envs/notes/lib/python3.10/site-packages/llama_index/readers/llamahub_modules/google_docs/requirements.txt (line 1)) (2.31.0)\n",
      "Collecting pyasn1-modules>=0.2.1\n",
      "  Using cached pyasn1_modules-0.3.0-py2.py3-none-any.whl (181 kB)\n",
      "Requirement already satisfied: urllib3<2.0 in /home/jjmachan/.pyenv/versions/3.10.12/envs/notes/lib/python3.10/site-packages (from google-auth<3.0.0.dev0,>=1.19.0->google-api-python-client->-r /home/jjmachan/.pyenv/versions/3.10.12/envs/notes/lib/python3.10/site-packages/llama_index/readers/llamahub_modules/google_docs/requirements.txt (line 1)) (1.26.16)\n",
      "Collecting rsa<5,>=3.1.4\n",
      "  Using cached rsa-4.9-py3-none-any.whl (34 kB)\n",
      "Requirement already satisfied: cachetools<6.0,>=2.0.0 in /home/jjmachan/.pyenv/versions/3.10.12/envs/notes/lib/python3.10/site-packages (from google-auth<3.0.0.dev0,>=1.19.0->google-api-python-client->-r /home/jjmachan/.pyenv/versions/3.10.12/envs/notes/lib/python3.10/site-packages/llama_index/readers/llamahub_modules/google_docs/requirements.txt (line 1)) (5.3.1)\n",
      "Requirement already satisfied: pyparsing!=3.0.0,!=3.0.1,!=3.0.2,!=3.0.3,<4,>=2.4.2 in /home/jjmachan/.pyenv/versions/3.10.12/envs/notes/lib/python3.10/site-packages (from httplib2<1.dev0,>=0.15.0->google-api-python-client->-r /home/jjmachan/.pyenv/versions/3.10.12/envs/notes/lib/python3.10/site-packages/llama_index/readers/llamahub_modules/google_docs/requirements.txt (line 1)) (3.1.1)\n",
      "Collecting oauthlib>=3.0.0\n",
      "  Using cached oauthlib-3.2.2-py3-none-any.whl (151 kB)\n",
      "Collecting pyasn1<0.6.0,>=0.4.6\n",
      "  Using cached pyasn1-0.5.0-py2.py3-none-any.whl (83 kB)\n",
      "Requirement already satisfied: idna<4,>=2.5 in /home/jjmachan/.pyenv/versions/3.10.12/envs/notes/lib/python3.10/site-packages (from requests<3.0.0.dev0,>=2.18.0->google-api-core!=2.0.*,!=2.1.*,!=2.2.*,!=2.3.0,<3.0.0.dev0,>=1.31.5->google-api-python-client->-r /home/jjmachan/.pyenv/versions/3.10.12/envs/notes/lib/python3.10/site-packages/llama_index/readers/llamahub_modules/google_docs/requirements.txt (line 1)) (3.4)\n",
      "Requirement already satisfied: certifi>=2017.4.17 in /home/jjmachan/.pyenv/versions/3.10.12/envs/notes/lib/python3.10/site-packages (from requests<3.0.0.dev0,>=2.18.0->google-api-core!=2.0.*,!=2.1.*,!=2.2.*,!=2.3.0,<3.0.0.dev0,>=1.31.5->google-api-python-client->-r /home/jjmachan/.pyenv/versions/3.10.12/envs/notes/lib/python3.10/site-packages/llama_index/readers/llamahub_modules/google_docs/requirements.txt (line 1)) (2023.5.7)\n",
      "Requirement already satisfied: charset-normalizer<4,>=2 in /home/jjmachan/.pyenv/versions/3.10.12/envs/notes/lib/python3.10/site-packages (from requests<3.0.0.dev0,>=2.18.0->google-api-core!=2.0.*,!=2.1.*,!=2.2.*,!=2.3.0,<3.0.0.dev0,>=1.31.5->google-api-python-client->-r /home/jjmachan/.pyenv/versions/3.10.12/envs/notes/lib/python3.10/site-packages/llama_index/readers/llamahub_modules/google_docs/requirements.txt (line 1)) (3.2.0)\n",
      "Installing collected packages: uritemplate, pyasn1, protobuf, oauthlib, httplib2, rsa, requests-oauthlib, pyasn1-modules, googleapis-common-protos, google-auth, google-auth-oauthlib, google-auth-httplib2, google-api-core, google-api-python-client\n",
      "  Attempting uninstall: protobuf\n",
      "    Found existing installation: protobuf 3.20.0\n",
      "    Uninstalling protobuf-3.20.0:\n",
      "      Successfully uninstalled protobuf-3.20.0\n",
      "Successfully installed google-api-core-2.11.1 google-api-python-client-2.100.0 google-auth-2.23.0 google-auth-httplib2-0.1.1 google-auth-oauthlib-1.1.0 googleapis-common-protos-1.60.0 httplib2-0.22.0 oauthlib-3.2.2 protobuf-4.24.3 pyasn1-0.5.0 pyasn1-modules-0.3.0 requests-oauthlib-1.3.1 rsa-4.9 uritemplate-4.1.1\n"
     ]
    },
    {
     "name": "stderr",
     "output_type": "stream",
     "text": [
      "\n",
      "\u001b[1m[\u001b[0m\u001b[34;49mnotice\u001b[0m\u001b[1;39;49m]\u001b[0m\u001b[39;49m A new release of pip is available: \u001b[0m\u001b[31;49m23.0.1\u001b[0m\u001b[39;49m -> \u001b[0m\u001b[32;49m23.2.1\u001b[0m\n",
      "\u001b[1m[\u001b[0m\u001b[34;49mnotice\u001b[0m\u001b[1;39;49m]\u001b[0m\u001b[39;49m To update, run: \u001b[0m\u001b[32;49mpython3.10 -m pip install --upgrade pip\u001b[0m\n"
     ]
    }
   ],
   "source": [
    "from llama_index import GPTVectorStoreIndex, download_loader\n",
    "\n",
    "GoogleDocsReader = download_loader('GoogleDocsReader')"
   ]
  },
  {
   "cell_type": "code",
   "execution_count": 6,
   "id": "2de4afdd",
   "metadata": {},
   "outputs": [
    {
     "data": {
      "text/plain": [
       "CompletionResponse(text='\\n\\nToday is August 11, 2020.', additional_kwargs={}, raw=<OpenAIObject text_completion id=cmpl-81as994LpTXcLzsJ5B2owD4VxcmXb at 0x7f4b0971c5e0> JSON: {\n",
       "  \"warning\": \"This model version is deprecated. Migrate before January 4, 2024 to avoid disruption of service. Learn more https://platform.openai.com/docs/deprecations\",\n",
       "  \"id\": \"cmpl-81as994LpTXcLzsJ5B2owD4VxcmXb\",\n",
       "  \"object\": \"text_completion\",\n",
       "  \"created\": 1695390757,\n",
       "  \"model\": \"text-davinci-003\",\n",
       "  \"choices\": [\n",
       "    {\n",
       "      \"text\": \"\\n\\nToday is August 11, 2020.\",\n",
       "      \"index\": 0,\n",
       "      \"logprobs\": null,\n",
       "      \"finish_reason\": \"stop\"\n",
       "    }\n",
       "  ],\n",
       "  \"usage\": {\n",
       "    \"prompt_tokens\": 5,\n",
       "    \"completion_tokens\": 9,\n",
       "    \"total_tokens\": 14\n",
       "  }\n",
       "}, delta=None)"
      ]
     },
     "execution_count": 6,
     "metadata": {},
     "output_type": "execute_result"
    }
   ],
   "source": [
    "from llama_index.llms.openai import OpenAI\n",
    "\n",
    "llm = OpenAI()\n",
    "\n",
    "llm.complete(\"what is today's date\")"
   ]
  },
  {
   "cell_type": "code",
   "execution_count": 26,
   "id": "1fa53e45",
   "metadata": {},
   "outputs": [
    {
     "data": {
      "text/plain": [
       "CompletionResponse(text='\\nNo, today is not a holiday. The next holiday is Republic Day on January 26, 2023.', additional_kwargs={}, raw=<OpenAIObject text_completion id=cmpl-81bB4oN1ifzv7AQUaj9ZSPSgSFC0O at 0x7f4b426427a0> JSON: {\n",
       "  \"warning\": \"This model version is deprecated. Migrate before January 4, 2024 to avoid disruption of service. Learn more https://platform.openai.com/docs/deprecations\",\n",
       "  \"id\": \"cmpl-81bB4oN1ifzv7AQUaj9ZSPSgSFC0O\",\n",
       "  \"object\": \"text_completion\",\n",
       "  \"created\": 1695391930,\n",
       "  \"model\": \"text-davinci-003\",\n",
       "  \"choices\": [\n",
       "    {\n",
       "      \"text\": \"\\nNo, today is not a holiday. The next holiday is Republic Day on January 26, 2023.\",\n",
       "      \"index\": 0,\n",
       "      \"logprobs\": null,\n",
       "      \"finish_reason\": \"stop\"\n",
       "    }\n",
       "  ],\n",
       "  \"usage\": {\n",
       "    \"prompt_tokens\": 179,\n",
       "    \"completion_tokens\": 22,\n",
       "    \"total_tokens\": 201\n",
       "  }\n",
       "}, delta=None)"
      ]
     },
     "execution_count": 26,
     "metadata": {},
     "output_type": "execute_result"
    }
   ],
   "source": [
    "querry = \"\"\"\\\n",
    "today's date: September 22nd, 2023\n",
    "\n",
    "answer the question given the following context\n",
    "context:\n",
    "\tHoliday List 2023\n",
    "\t\n",
    " Date\n",
    " Day\n",
    " Occasion\n",
    " January 26, 2023\n",
    " Thursday\n",
    " Republic Day\n",
    " April 07, 2023\n",
    " Friday\n",
    " Good Friday\n",
    " May 01, 2023\n",
    " Monday\n",
    " May Day\n",
    " August 15, 2023\n",
    " Tuesday\n",
    " Independence Day\n",
    " September 19, 2023\n",
    " Tuesday\n",
    " Ganesh Chaturthi\n",
    " October 02, 2023\n",
    " Monday\n",
    " Gandhi Jayanthi\n",
    " October 24, 2023\n",
    " Tuesday\n",
    " Vijayadashami\n",
    " November 01, 2023\n",
    " Wednesday\n",
    " Kannada Rajyotsava\n",
    " November 14, 2023\n",
    " Tuesday\n",
    " Deepavali\n",
    " December 25, 2023\n",
    " Monday\n",
    " Christmas\n",
    "\tWellness Off: Last Friday of every quarter.\n",
    "\n",
    "question: is today a holiday? when is the next one given that today is september 22nd\n",
    "\"\"\"\n",
    "\n",
    "llm.complete(qurry)"
   ]
  },
  {
   "cell_type": "code",
   "execution_count": null,
   "id": "5a48921f",
   "metadata": {},
   "outputs": [],
   "source": []
  }
 ],
 "metadata": {
  "kernelspec": {
   "display_name": "Python 3 (ipykernel)",
   "language": "python",
   "name": "python3"
  },
  "language_info": {
   "codemirror_mode": {
    "name": "ipython",
    "version": 3
   },
   "file_extension": ".py",
   "mimetype": "text/x-python",
   "name": "python",
   "nbconvert_exporter": "python",
   "pygments_lexer": "ipython3",
   "version": "3.10.12"
  }
 },
 "nbformat": 4,
 "nbformat_minor": 5
}
