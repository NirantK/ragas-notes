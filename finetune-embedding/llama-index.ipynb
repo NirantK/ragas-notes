{
 "cells": [
  {
   "cell_type": "markdown",
   "id": "f4807d93-b1db-4121-bb79-3302b8a4ff51",
   "metadata": {},
   "source": [
    "## Modules"
   ]
  },
  {
   "cell_type": "code",
   "execution_count": 9,
   "id": "ee9db711-b7dd-4a0c-b124-154ebcb8dfdd",
   "metadata": {},
   "outputs": [],
   "source": [
    "from llama_index import SimpleDirectoryReader, VectorStoreIndex, ServiceContext\n",
    "from llama_index.node_parser import SimpleNodeParser\n",
    "from llama_index.text_splitter import TokenTextSplitter\n",
    "from transformers import AutoTokenizer\n",
    "from langchain.embeddings import HuggingFaceEmbeddings\n",
    "from datasets import Dataset\n",
    "import os\n",
    "import json"
   ]
  },
  {
   "cell_type": "code",
   "execution_count": 10,
   "id": "1a41d6d8-b22d-4158-b7f2-82c5ba2e345e",
   "metadata": {},
   "outputs": [],
   "source": [
    "os.environ['OPENAI_API_KEY'] = json.load(open(\"/home/shahul/openai-keys.json\"))[\"ikka\"]"
   ]
  },
  {
   "cell_type": "markdown",
   "id": "232607dd-3cd6-4820-ade4-bfc1c24d1808",
   "metadata": {},
   "source": [
    "## Pipeline"
   ]
  },
  {
   "cell_type": "code",
   "execution_count": 11,
   "id": "58b2f231-bc8c-4318-9dc4-2b9466a17b40",
   "metadata": {},
   "outputs": [],
   "source": [
    "reader = SimpleDirectoryReader(\"./wikidata/\")\n",
    "data = reader.load_data()[:50]"
   ]
  },
  {
   "cell_type": "code",
   "execution_count": 12,
   "id": "252cf928-310a-4de3-80e3-b1e54ec89f96",
   "metadata": {},
   "outputs": [],
   "source": [
    "tokenizer = AutoTokenizer.from_pretrained(\"BAAI/bge-small-en-v1.5\",)"
   ]
  },
  {
   "cell_type": "code",
   "execution_count": 13,
   "id": "c08b52aa-65a7-4cc0-b44e-259b10a2ad83",
   "metadata": {},
   "outputs": [],
   "source": [
    "token_splitter = TokenTextSplitter(chunk_size=500\n",
    "                                   , chunk_overlap=100, tokenizer=tokenizer.encode)"
   ]
  },
  {
   "cell_type": "code",
   "execution_count": 14,
   "id": "5e54b34f-14b3-4ce5-9c59-fb4ad8ee5d2a",
   "metadata": {},
   "outputs": [],
   "source": [
    "node_parser = SimpleNodeParser.from_defaults(text_splitter=token_splitter)"
   ]
  },
  {
   "cell_type": "code",
   "execution_count": 15,
   "id": "0f08674b-734e-44c2-9760-b6b962f0869c",
   "metadata": {},
   "outputs": [],
   "source": [
    "embed_model = HuggingFaceEmbeddings(model_name=\"BAAI/bge-small-en-v1.5\")\n"
   ]
  },
  {
   "cell_type": "code",
   "execution_count": 16,
   "id": "e30f230b-6904-482f-a095-b58da7cc9812",
   "metadata": {},
   "outputs": [],
   "source": [
    "# nodes = node_parser.get_nodes_from_documents(data)"
   ]
  },
  {
   "cell_type": "code",
   "execution_count": 18,
   "id": "181d3e36-43d9-44cf-8bb6-cd1529e850e9",
   "metadata": {},
   "outputs": [],
   "source": [
    "service_context = ServiceContext.from_defaults(node_parser=node_parser, embed_model=embed_model)"
   ]
  },
  {
   "cell_type": "code",
   "execution_count": 19,
   "id": "151e0303-e66f-418b-b389-d17c0ddb87db",
   "metadata": {},
   "outputs": [],
   "source": [
    "index = VectorStoreIndex.from_documents(data) "
   ]
  },
  {
   "cell_type": "code",
   "execution_count": 22,
   "id": "99ab409a-d3e8-4eaf-a3ff-639d7f61c552",
   "metadata": {},
   "outputs": [],
   "source": [
    "retreiver = index.as_retriever()"
   ]
  },
  {
   "cell_type": "code",
   "execution_count": 25,
   "id": "e312e99b-1cb4-453f-8bf9-774936c79bb7",
   "metadata": {},
   "outputs": [],
   "source": [
    "chunks = retreiver.retrieve(\"Who was the president of US in 1960?\")"
   ]
  },
  {
   "cell_type": "code",
   "execution_count": 26,
   "id": "ae2d262e-10bb-4cde-abce-86ba80d14f2c",
   "metadata": {},
   "outputs": [
    {
     "data": {
      "text/plain": [
       "[NodeWithScore(node=TextNode(id_='40724cb5-677c-4775-9d38-c66b998040d7', embedding=None, metadata={}, excluded_embed_metadata_keys=[], excluded_llm_metadata_keys=[], relationships={<NodeRelationship.SOURCE: '1'>: RelatedNodeInfo(node_id='760f2e6e-1bbc-4442-9cfa-6eac5a791845', node_type=<ObjectType.DOCUMENT: '4'>, metadata={}, hash='d7c0b27402b65a509d0efda4e748557689d3ce9e8f2fa072fb438d10c3843cdf'), <NodeRelationship.NEXT: '3'>: RelatedNodeInfo(node_id='d7fe4f5d-f3a5-4a53-8436-b0b314a28505', node_type=<ObjectType.TEXT: '1'>, metadata={}, hash='1090dacf7e240d0ceaf8ff9b945b2826c72730a8e02714b6d3d6bbb36aef816d')}, hash='daa018de51a18dcb4097def5cf8f1a082b6cbb3ccec021d3de144da0b13ca3cf', text='The 1976 United States presidential election was the 48th quadrennial presidential election, held on Tuesday, November 2, 1976. Democrat Jimmy Carter, former Governor of Georgia, defeated incumbent Republican president Gerald Ford in a narrow victory. \\nFord ascended to the presidency when Richard Nixon resigned in 1974 in the wake of the Watergate scandal, which badly damaged the Republican Party and its electoral prospects. Ford promised to continue Nixon\\'s political agenda and govern as a moderate Republican, causing considerable backlash from the conservative wing of his party. This spurred former California governor Ronald Reagan to mount a significant challenge against him in the Republican primaries, in which Ford narrowly prevailed. Carter was unknown outside of his home state of Georgia at the start of the Democratic primaries, but he emerged as the front-runner after his victories in the first set of primaries. Campaigning as a political moderate within his own party and as a Washington, D.C. outsider, Carter defeated numerous opponents to clinch the Democratic nomination.\\nFord pursued a \"Rose Garden strategy\" in which he sought to portray himself as an experienced leader focused on fulfilling his role as chief executive. On the other hand, Carter emphasized his status as a reformer who was \"untainted\" by Washington. Saddled with a poor economy, the fall of South Vietnam, and his unpopular pardon of Richard Nixon, Ford trailed by a wide margin in polls taken after Carter\\'s formal nomination in July 1976. Ford\\'s polling rebounded after a strong performance in the first presidential debate, and the race was close on election day.\\nCarter won a majority of the popular and electoral votes. He was able to carry several Midwestern and Northeastern swing states, as well as most states in the Democratic-dominated region of the South. Ford dominated the Western states. Carter\\'s victory at the polls was due in part to the backlash against the Watergate scandal that still was deeply hurting Republican candidates. Ford became the only vice-president to become president and subsequently fail to win election for a term in his own right.\\nAs of 2020, this is also the last election in which the Democratic candidate won the majority of states in the South, carrying the states of Alabama, Mississippi, South Carolina, and Texas (mainly due to Carter\\'s southern roots), and the most recent election in which the losing candidate carried more states than the winning candidate.\\nSince the death of George McGovern in 2012, this is the least recent election where one of the major party nominees for president, Jimmy Carter, is still alive.\\n\\nNominations\\nDemocratic Party\\nThe surprise winner of the 1976 Democratic presidential nomination was Jimmy Carter, a former state senator and governor of Georgia. When the primaries began, Carter was little-known at the national level, and many political pundits regarded a number of better-known candidates, such as Senator Henry M. Jackson from Washington, Representative Morris Udall from Arizona, Governor George Wallace of Alabama, and California Governor Jerry Brown, as the favorites for the nomination. However, in the wake of the Watergate scandal, Carter realized that his status as a Washington outsider, political centrist, and moderate reformer could give him an advantage over his better-known establishment rivals. Carter also took advantage of the record number of state primaries and caucuses in 1976, to eliminate his better-known rivals one-by-one.\\nHenry M. Jackson made a fateful decision not to compete in the early Iowa caucus and New Hampshire primary, which Jimmy Carter won after liberals split their votes among four other candidates. Though Jackson went on to win the Massachusetts and New York primaries, he was forced to quit the race on May 1, after losing the critical Pennsylvania primary to Carter by twelve percentage points. Carter then defeated Governor Wallace, his main conservative challenger, by a wide margin in the North Carolina primary, thus forcing Wallace to end his campaign. Representative Udall, a liberal, then became Carter\\'s main challenger. He finished second to Carter in the New Hampshire, Massachusetts, Wisconsin, New York, Michigan, South Dakota, and Ohio primaries, and won the caucuses in his home state of Arizona, while running even with Carter in the New Mexico caucuses. However, the fact that Udall finished second to Carter in most of these races meant that Carter steadily accumulated more delegates for the nomination than he did.\\nAs Carter closed in on the nomination, an \"ABC\" (\"Anybody But Carter\") movement started among Northern and Western liberal Democrats who worried that Carter\\'s Southern upbringing would make him too conservative for the Democratic Party. The leaders of the \"ABC\" movement, Idaho Senator Frank Church and California Governor Jerry Brown, both announced their candidacies for the Democratic nomination, and defeated Carter in several late primaries. However, their campaigns started too late to prevent Carter from gathering the remaining delegates he needed to capture the nomination.\\nBy June 1976, Carter had captured more than enough delegates to win the Democratic nomination.', start_char_idx=None, end_char_idx=None, text_template='{metadata_str}\\n\\n{content}', metadata_template='{key}: {value}', metadata_seperator='\\n'), score=0.8258486822028978),\n",
       " NodeWithScore(node=TextNode(id_='d7fe4f5d-f3a5-4a53-8436-b0b314a28505', embedding=None, metadata={}, excluded_embed_metadata_keys=[], excluded_llm_metadata_keys=[], relationships={<NodeRelationship.SOURCE: '1'>: RelatedNodeInfo(node_id='760f2e6e-1bbc-4442-9cfa-6eac5a791845', node_type=<ObjectType.DOCUMENT: '4'>, metadata={}, hash='d7c0b27402b65a509d0efda4e748557689d3ce9e8f2fa072fb438d10c3843cdf'), <NodeRelationship.PREVIOUS: '2'>: RelatedNodeInfo(node_id='40724cb5-677c-4775-9d38-c66b998040d7', node_type=<ObjectType.TEXT: '1'>, metadata={}, hash='daa018de51a18dcb4097def5cf8f1a082b6cbb3ccec021d3de144da0b13ca3cf'), <NodeRelationship.NEXT: '3'>: RelatedNodeInfo(node_id='d5ac4be3-1b4a-4263-b424-e020d0781176', node_type=<ObjectType.TEXT: '1'>, metadata={}, hash='36f28d7734fc5f6431d732a248aec2bd55ee4e74ac1381055a60ef0d3c47501a')}, hash='1090dacf7e240d0ceaf8ff9b945b2826c72730a8e02714b6d3d6bbb36aef816d', text='By June 1976, Carter had captured more than enough delegates to win the Democratic nomination. At the 1976 Democratic National Convention, Carter easily won the nomination on the first ballot; Udall finished in second place. Carter then chose Minnesota Senator Walter Mondale, a liberal as his running mate.\\n\\nRepublican Party\\nThe contest for the Republican Party\\'s presidential nomination in 1976 was between two serious candidates: incumbent president Gerald Ford, a member of the party\\'s moderate wing, and former governor of California Ronald Reagan, a member of the party\\'s conservative wing. The presidential primary campaign between the two men was hard-fought and relatively even; by the start of the Republican Convention in August 1976, the race for the nomination was still too close to call. Ford defeated Reagan by a narrow margin on the first ballot at the 1976 Republican National Convention in Kansas City, and chose Senator Bob Dole from Kansas as his running mate in the place of incumbent vice president Nelson Rockefeller, who had announced the previous year that he was not interested in being considered for the vice presidential nomination. Since Rockefeller was the second vice president to assume the office as ruled by the Section 2 of the 25th Amendment and the other one who achieved this feat was Ford who was nominated in 1976, this made Rockefeller the only vice president never contested in the general election both as presidential and vice presidential nominee. All presidents had contested for the office, either as president or vice president, with the exception of Ford, who appeared only after being president and all other vice presidents other than Ford had contested for the office. The 1976 Republican Convention was the last political convention to open with the presidential nomination still being undecided until the actual balloting at the convention.\\n\\nOthers\\nRoger MacBride, who had gained fame in the 1972 election as a faithless elector, ran as the nominee of the Libertarian Party.\\nEugene McCarthy, a former Democratic Senator from Minnesota, ran as an independent candidate.\\nBen Bubar, Prohibition Party nominee.\\nFrank Zeidler, former mayor of Milwaukee, Wisconsin, ran as the nominee of Socialist Party USA, which was founded in 1973 in a split with Socialist Party of America.\\nGus Hall, four-time Communist Party candidate\\nLester Maddox, the former Democratic Governor of Georgia (and Lieutenant Governor under Carter), ran as the nominee of the American Independent Party\\n\\nGeneral election\\nFall campaign\\nOne of the advantages Ford held over Carter as the general election campaign began was his presidential privilege to preside over events celebrating the United States Bicentennial; this often resulted in favorable publicity for Ford. These included the Washington, D. C., fireworks display on the Fourth of July, which was televised nationally. On July 7, 1976, the President and First Lady served as hosts at a White House state dinner for Queen Elizabeth II and Prince Philip of the United Kingdom, which was televised on the Public Broadcasting Service (PBS) network. These events were part of Ford\\'s \"Rose Garden\" strategy to win the election, meaning that instead of appearing as a typical politician, Ford presented himself as a \"tested leader\" who was busily fulfilling the role of national leader and chief executive. Not until October did Ford leave the White House to actively campaign across the nation.Carter ran as a reformer who was \"untainted\" by Washington political scandals, which many voters found attractive in the wake of the Watergate scandal that had led to President Richard Nixon\\'s resignation. Ford, although personally unconnected with Watergate, was seen by many as too close to the discredited Nixon administration, especially after he granted Nixon a presidential pardon for any crimes he might have committed during his term of office. Ford\\'s pardon of Nixon caused his popularity, as measured by public opinion polls, to plummet. Ford\\'s refusal to explain his reasons for pardoning Nixon publicly (he would do so in his memoirs several years later), also hurt his image.Ford unsuccessfully asked Congress to end the 1950s-era price controls on natural gas, which had caused a dwindling of American natural gas reserves after the 1973 oil crisis. Carter stated during his campaign that he opposed the ending of the price controls and thought such a move would be \"disastrous\".After the Democratic National Convention, Carter held a 33-point lead over Ford in the polls. However, as the campaign continued, the race greatly tightened. During the campaign Playboy magazine published a controversial interview with Carter; in the interview, Carter admitted to having \"lusted in my heart\" for women other than his wife and used the word \"screw,\" which cut into his support among women and evangelical Christians. On September 23, Ford performed well in what was the first televised presidential debate since 1960. Polls taken after the debate showed that most viewers felt that Ford was the winner. Carter was also hurt by Ford\\'s charges that he lacked the necessary experience to be an effective national leader and that he was vague on many issues.', start_char_idx=None, end_char_idx=None, text_template='{metadata_str}\\n\\n{content}', metadata_template='{key}: {value}', metadata_seperator='\\n'), score=0.817589428819687)]"
      ]
     },
     "execution_count": 26,
     "metadata": {},
     "output_type": "execute_result"
    }
   ],
   "source": [
    "chunks"
   ]
  },
  {
   "cell_type": "code",
   "execution_count": null,
   "id": "c27ab425-6f17-4ae1-a749-b80f2edb652b",
   "metadata": {},
   "outputs": [],
   "source": []
  }
 ],
 "metadata": {
  "kernelspec": {
   "display_name": "Python 3 (ipykernel)",
   "language": "python",
   "name": "python3"
  },
  "language_info": {
   "codemirror_mode": {
    "name": "ipython",
    "version": 3
   },
   "file_extension": ".py",
   "mimetype": "text/x-python",
   "name": "python",
   "nbconvert_exporter": "python",
   "pygments_lexer": "ipython3",
   "version": "3.10.12"
  }
 },
 "nbformat": 4,
 "nbformat_minor": 5
}
