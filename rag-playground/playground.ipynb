{
 "cells": [
  {
   "cell_type": "markdown",
   "id": "19011569-f522-4ece-a8f6-e5e046d9dda9",
   "metadata": {},
   "source": [
    "## Simple RAG playground"
   ]
  },
  {
   "cell_type": "code",
   "execution_count": 1,
   "id": "50362c0c-0dd1-4583-be57-6b8a141ca248",
   "metadata": {},
   "outputs": [],
   "source": [
    "%load_ext autoreload\n",
    "%autoreload 2"
   ]
  },
  {
   "cell_type": "code",
   "execution_count": 2,
   "id": "61523c52",
   "metadata": {},
   "outputs": [],
   "source": [
    "from dotenv import load_dotenv\n",
    "import os\n",
    "PATH = \"/Users/shahules/Myprojects/notes/.envrc\"\n",
    "load_dotenv(PATH)\n",
    "PROJECT_ID = os.environ.get(\"PROJECT_ID\")\n",
    "NOTION_TOKEN = os.environ.get(\"NOTION_TOKEN\")"
   ]
  },
  {
   "cell_type": "markdown",
   "id": "4995bf9b-79c2-4cef-850b-e463b538f04a",
   "metadata": {},
   "source": [
    "## Customer support Agent"
   ]
  },
  {
   "cell_type": "code",
   "execution_count": null,
   "id": "2f825c54",
   "metadata": {},
   "outputs": [],
   "source": [
    "! git clone https://huggingface.co/datasets/explodinggradients/ragas-airline-dataset"
   ]
  },
  {
   "cell_type": "code",
   "execution_count": 4,
   "id": "1ad580dd-4911-4e75-8d9f-77ccd7578da4",
   "metadata": {},
   "outputs": [
    {
     "name": "stderr",
     "output_type": "stream",
     "text": [
      "/opt/homebrew/Caskroom/miniforge/base/envs/random/lib/python3.10/site-packages/tqdm/auto.py:21: TqdmWarning: IProgress not found. Please update jupyter and ipywidgets. See https://ipywidgets.readthedocs.io/en/stable/user_install.html\n",
      "  from .autonotebook import tqdm as notebook_tqdm\n"
     ]
    }
   ],
   "source": [
    "from src import AgentAI\n",
    "customer_support_agent = AgentAI()"
   ]
  },
  {
   "cell_type": "code",
   "execution_count": 5,
   "id": "78d4aaf0-ee19-42e9-b8c0-cb8124f86654",
   "metadata": {},
   "outputs": [
    {
     "name": "stdout",
     "output_type": "stream",
     "text": [
      "If you missed your flight, whether you can get a refund depends on the type of ticket you purchased and the reason for missing the flight. Generally:\n",
      "\n",
      "1. **Refundable Tickets**: You may be eligible for a full refund. However, you must contact Ragas Airlines customer service to process this.\n",
      "2. **Non-Refundable Tickets**: Typically, these tickets do not allow refunds if you miss your flight. You may be offered a partial refund or travel credit instead, but this will depend on the specific fare conditions.\n",
      "3. **Basic Economy & Promotional Fares**: These usually do not allow any refunds, even if the flight is missed.\n",
      "\n",
      "To confirm your eligibility for a refund, check your ticket fare rules or contact Ragas Airlines customer support.\n"
     ]
    }
   ],
   "source": [
    "response = await customer_support_agent.ask(\"Can i get a refund for my missed flight?\")\n",
    "print(response)"
   ]
  },
  {
   "cell_type": "markdown",
   "id": "f4e4efdf-9068-44c6-9897-07bd95259c23",
   "metadata": {},
   "source": [
    "## Setup sdk"
   ]
  },
  {
   "cell_type": "code",
   "execution_count": 6,
   "id": "f70f1a17-688e-4cd0-b449-1400076658a6",
   "metadata": {},
   "outputs": [],
   "source": [
    "from ragas_annotator.project.core import Project"
   ]
  },
  {
   "cell_type": "code",
   "execution_count": 7,
   "id": "e41474dc-cc11-4eb1-9473-6686857bc14b",
   "metadata": {},
   "outputs": [
    {
     "data": {
      "text/plain": [
       "Project(name='Customer support RAG', root_page_id=1b35d9bf94ff801792bfd1824fac0c96)"
      ]
     },
     "execution_count": 7,
     "metadata": {},
     "output_type": "execute_result"
    }
   ],
   "source": [
    "project = Project(\n",
    "    name=\"Customer support RAG\", \n",
    "    notion_api_key=NOTION_TOKEN, \n",
    "    notion_root_page_id=PROJECT_ID,\n",
    ")\n",
    "project"
   ]
  },
  {
   "cell_type": "markdown",
   "id": "a762ea33-4d54-477b-8920-138cc0ec8444",
   "metadata": {},
   "source": [
    "## Read dataset"
   ]
  },
  {
   "cell_type": "code",
   "execution_count": 8,
   "id": "d26d45b5-697b-47b5-b65e-a82a69c9d594",
   "metadata": {},
   "outputs": [],
   "source": [
    "from ragas_annotator.model.notion_model import NotionModel\n",
    "from ragas_annotator import nmt\n",
    "\n",
    "class Dataset(NotionModel):\n",
    "    id: str = nmt.ID()\n",
    "    query: str = nmt.Title()\n",
    "    expected_answer: str = nmt.Text()"
   ]
  },
  {
   "cell_type": "code",
   "execution_count": 9,
   "id": "9989e56e-86d5-44a9-82d4-904977c75e00",
   "metadata": {},
   "outputs": [],
   "source": [
    "dataset = project.get_dataset(\n",
    "    name=\"RAG Dataset\",\n",
    "    model=Dataset,\n",
    ")\n",
    "dataset.load()"
   ]
  },
  {
   "cell_type": "code",
   "execution_count": 10,
   "id": "193d8366-b527-42ee-96d3-b51f70b59060",
   "metadata": {},
   "outputs": [
    {
     "data": {
      "text/plain": [
       "15"
      ]
     },
     "execution_count": 10,
     "metadata": {},
     "output_type": "execute_result"
    }
   ],
   "source": [
    "len(dataset)"
   ]
  },
  {
   "cell_type": "markdown",
   "id": "4d9163c2-bbd2-4425-a683-d5b5d67b76c6",
   "metadata": {},
   "source": [
    "## LLM as judge"
   ]
  },
  {
   "cell_type": "code",
   "execution_count": 11,
   "id": "3f78b886-5f87-4428-959d-966c7773b919",
   "metadata": {},
   "outputs": [
    {
     "data": {
      "text/plain": [
       "'fail'"
      ]
     },
     "execution_count": 11,
     "metadata": {},
     "output_type": "execute_result"
    }
   ],
   "source": [
    "from ragas_annotator.llm import ragas_llm\n",
    "from ragas_annotator.metric import DiscreteMetric\n",
    "from openai import AsyncOpenAI\n",
    "\n",
    "llm = ragas_llm(provider=\"openai\",model=\"gpt-4o\",client=AsyncOpenAI())\n",
    "\n",
    "my_metric = DiscreteMetric(\n",
    "    llm=llm,\n",
    "    name='correctness',\n",
    "    prompt=\"Evaluate if given answer {response} is same as expected answer {expected_answer}\",\n",
    "    values=[\"pass\",\"fail\"],\n",
    ")\n",
    "\n",
    "    \n",
    "# test LLM as judge\n",
    "result = my_metric.score(response=\"this is my response\",expected_answer=\"this is not my response\")\n",
    "result"
   ]
  },
  {
   "cell_type": "markdown",
   "id": "08c45c3e-dd63-43eb-a12c-df08368db561",
   "metadata": {},
   "source": [
    "### Writing custom logic with metric (optional)"
   ]
  },
  {
   "cell_type": "code",
   "execution_count": null,
   "id": "513c8d03-d244-48d8-b638-f8e99aa399f9",
   "metadata": {},
   "outputs": [],
   "source": [
    "# #| eval: false\n",
    "# @discrete_metric(llm=llm,\n",
    "#     prompt=\"Evaluate if given answer is helpful\\n\\n{response}\",\n",
    "#     name='new_metric',\n",
    "#     values=[\"low\",\"med\",\"high\"]\n",
    "#     )\n",
    "# def my_metric(llm,prompt,example_store, **kwargs):\n",
    "\n",
    "#         class response_model(BaseModel):\n",
    "#              output: t.List[bool]\n",
    "#              reason: str\n",
    "        \n",
    "#         response = llm.generate(\n",
    "# \t        prompt.format(**kwargs),response_model=response_model\n",
    "# \t      )\n",
    "#         total = sum(response.output)\n",
    "#         if total < 1:\n",
    "#             score = 'low'\n",
    "#         else:\n",
    "#             score = 'high'\n",
    "#         return score,\"reason\",\n",
    "\n",
    "# result = my_metric.score(response='my response') # result\n",
    "# print(result)\n",
    "# print(result.reason)"
   ]
  },
  {
   "cell_type": "markdown",
   "id": "7244f410-0292-4384-bce8-bb0358457e40",
   "metadata": {},
   "source": [
    "## Setup an experiment"
   ]
  },
  {
   "cell_type": "code",
   "execution_count": 12,
   "id": "ae42189d-17e5-4dec-8e81-9e1ca53399e3",
   "metadata": {},
   "outputs": [],
   "source": [
    "import typing as t\n",
    "class Experiment(Dataset):\n",
    "    response: str = nmt.Text()\n",
    "    correctness: t.Literal['pass','fail'] = nmt.Select()\n",
    "    correctness_reason: str = nmt.Text()\n",
    "    \n"
   ]
  },
  {
   "cell_type": "code",
   "execution_count": 15,
   "id": "146f2227-82b5-44b5-aaf4-4f8b35917002",
   "metadata": {},
   "outputs": [],
   "source": [
    "import json\n",
    "\n",
    "@project.langfuse_experiment(Experiment, name_prefix=\"Workshop\")\n",
    "async def run_experiment(row: Dataset):\n",
    "    response = await customer_support_agent.ask(row.query)\n",
    "    score = await my_metric.ascore(response=response, expected_answer=row.expected_answer)\n",
    "\n",
    "    experiment_view = Experiment(\n",
    "        id=row.id,\n",
    "        query=row.query,\n",
    "        expected_answer=row.expected_answer,\n",
    "        response=response,\n",
    "        correctness=score.result,\n",
    "        correctness_reason=score.reason,\n",
    "    )\n",
    "    \n",
    "    return experiment_view"
   ]
  },
  {
   "cell_type": "markdown",
   "id": "bd9c334a",
   "metadata": {},
   "source": [
    "## Run the experiments"
   ]
  },
  {
   "cell_type": "code",
   "execution_count": 17,
   "id": "4426d7b6-28b3-49ce-92c5-74e468c51165",
   "metadata": {},
   "outputs": [
    {
     "name": "stderr",
     "output_type": "stream",
     "text": [
      "100%|██████████| 15/15 [00:09<00:00,  1.65it/s]\n"
     ]
    },
    {
     "data": {
      "text/plain": [
       "Experiment(name=my-experiment-two, model=Experiment)"
      ]
     },
     "execution_count": 17,
     "metadata": {},
     "output_type": "execute_result"
    }
   ],
   "source": [
    "await run_experiment.run_async(\n",
    "    name=\"my-experiment-two\",\n",
    "    dataset=dataset\n",
    ")"
   ]
  },
  {
   "cell_type": "markdown",
   "id": "e69be73d",
   "metadata": {},
   "source": [
    "You may make any changes to AgentAI class like prompt, model, etc and run any number of experiments. Experiment now would have recorded in the Notion UI"
   ]
  },
  {
   "cell_type": "markdown",
   "id": "24da891c-bf76-46c0-abe2-0c17ad638d74",
   "metadata": {},
   "source": [
    "### Train LLM as judge"
   ]
  },
  {
   "cell_type": "code",
   "execution_count": 31,
   "id": "f36a1891-fea5-4d36-9fc2-28e0aeef67b1",
   "metadata": {},
   "outputs": [],
   "source": [
    "from ragas_annotator.embedding import ragas_embedding\n",
    "\n",
    "from openai import OpenAI\n",
    "embedding = ragas_embedding(provider='openai',client=OpenAI(),model=\"text-embedding-3-small\")\n"
   ]
  },
  {
   "cell_type": "code",
   "execution_count": null,
   "id": "55e1a9bb-c4ec-455f-aa85-758948fcba41",
   "metadata": {},
   "outputs": [
    {
     "name": "stderr",
     "output_type": "stream",
     "text": [
      "Processing examples: 100%|█| 15/15 [00:00<00:00, 115651.7\n"
     ]
    }
   ],
   "source": [
    "my_metric.train(project,experiment_names=['my-experiment-one'],embedding_model=embedding,model=Experiment,method={})"
   ]
  },
  {
   "cell_type": "markdown",
   "id": "f6961e10-66c8-4413-9f92-c664275074d8",
   "metadata": {},
   "source": [
    "### Compare experiments\n",
    "Hack to do in notebook, will be done in the UI"
   ]
  },
  {
   "cell_type": "code",
   "execution_count": null,
   "id": "83833d0e",
   "metadata": {},
   "outputs": [],
   "source": [
    "def compare_and_plot(exp_x: str, exp_y: str, metric):\n",
    "    # Load experiments\n",
    "    exp_x_data = project.get_experiment(exp_x, Experiment)\n",
    "    exp_y_data = project.get_experiment(exp_y, Experiment)\n",
    "    exp_x_data.load()\n",
    "    exp_y_data.load()\n",
    "    \n",
    "    # Compare experiments (assuming this is a function that exists)\n",
    "    project.compare_experiments(exp_x_data, exp_y_data)\n",
    "    \n",
    "    # Extract metrics from both experiments\n",
    "    results = {\n",
    "        \"exp_x\": [],\n",
    "        \"exp_y\": [],\n",
    "    }\n",
    "    for i in range(len(exp_x_data)):\n",
    "        results['exp_x'].append(getattr(exp_x_data[i], metric.name))\n",
    "        results['exp_y'].append(getattr(exp_y_data[i], metric.name))\n",
    "    \n",
    "    # Calculate counts for each category\n",
    "    exp_x_counts = {}\n",
    "    exp_y_counts = {}\n",
    "    \n",
    "    # For categorical data like 'pass'/'fail' or 'good'/'okay'/'bad'\n",
    "    # Get unique categories\n",
    "    all_categories = set(results['exp_x'] + results['exp_y'])\n",
    "    \n",
    "    # Count occurrences of each category\n",
    "    for category in all_categories:\n",
    "        exp_x_counts[category] = results['exp_x'].count(category)\n",
    "        exp_y_counts[category] = results['exp_y'].count(category)\n",
    "    \n",
    "    # Create stacked bar chart\n",
    "    import matplotlib.pyplot as plt\n",
    "    import numpy as np\n",
    "    \n",
    "    # Set up colors based on categories\n",
    "    if all(cat in ['pass', 'fail'] for cat in all_categories):\n",
    "        colors = {'pass': '#2196F3', 'fail': '#FF5722'}\n",
    "    elif all(cat in ['good', 'okay', 'bad'] for cat in all_categories):\n",
    "        colors = {'good': '#4CAF50', 'okay': '#FFC107', 'bad': '#F44336'}\n",
    "    else:\n",
    "        # Generate colors if categories are unknown\n",
    "        import matplotlib.colors as mcolors\n",
    "        colors = {cat: list(mcolors.TABLEAU_COLORS.values())[i % len(mcolors.TABLEAU_COLORS)] \n",
    "                 for i, cat in enumerate(all_categories)}\n",
    "    \n",
    "    # Set up the figure\n",
    "    fig, ax = plt.subplots(figsize=(10, 6))\n",
    "    \n",
    "    # Plot stacked bars\n",
    "    experiments = [exp_x, exp_y]\n",
    "    exp_counts = [exp_x_counts, exp_y_counts]\n",
    "    \n",
    "    # Calculate totals for percentage\n",
    "    totals = [sum(counts.values()) for counts in exp_counts]\n",
    "    \n",
    "    # Sort categories for consistent stacking (e.g., 'pass' always at bottom, then 'fail')\n",
    "    sorted_categories = sorted(all_categories)\n",
    "    \n",
    "    # Plot each category as a segment in the stack\n",
    "    bottoms = np.zeros(len(experiments))\n",
    "    for category in sorted_categories:\n",
    "        values = [counts.get(category, 0) / total * 100 for counts, total in zip(exp_counts, totals)]\n",
    "        ax.bar(experiments, values, bottom=bottoms, label=category.capitalize(), color=colors[category])\n",
    "        \n",
    "        # Add text labels inside the bars\n",
    "        for i, v in enumerate(values):\n",
    "            if v > 5:  # Only add label if segment is large enough\n",
    "                ax.text(i, bottoms[i] + v/2, f\"{int(exp_counts[i].get(category, 0))}\\n({v:.1f}%)\", \n",
    "                        ha='center', va='center', color='white', fontweight='bold')\n",
    "        \n",
    "        bottoms += values\n",
    "    \n",
    "    # Customize the chart\n",
    "    ax.set_title(f'Comparison of {metric.name.capitalize()} between Experiments', fontsize=14)\n",
    "    ax.set_ylabel('Percentage (%)', fontsize=12)\n",
    "    ax.set_ylim(0, 100)\n",
    "    ax.legend(title=metric.name.capitalize())\n",
    "    \n",
    "    # Add totals on top of each bar\n",
    "    for i, total in enumerate(totals):\n",
    "        ax.text(i, 101, f\"Total: {total}\", ha='center', va='bottom')\n",
    "    \n",
    "    plt.tight_layout()\n",
    "    plt.show()\n",
    "    "
   ]
  },
  {
   "cell_type": "code",
   "execution_count": 27,
   "id": "d267c0e7",
   "metadata": {},
   "outputs": [
    {
     "name": "stderr",
     "output_type": "stream",
     "text": [
      "Experiments have different models: <class '__main__.Experiment'> and <class '__main__.Experiment'>\n",
      "Experiments have different models: <class '__main__.Experiment'> and <class '__main__.Experiment'>\n",
      "Uploading to Notion: 100%|██████████| 15/15 [00:58<00:00,  3.88s/it]\n"
     ]
    },
    {
     "data": {
      "image/png": "[encoded data removed]",
      "text/plain": [
       "<Figure size 1000x600 with 1 Axes>"
      ]
     },
     "metadata": {},
     "output_type": "display_data"
    },
    {
     "data": {
      "text/plain": [
       "({'exp_x': ['fail',\n",
       "   'fail',\n",
       "   'pass',\n",
       "   'pass',\n",
       "   'fail',\n",
       "   'pass',\n",
       "   'fail',\n",
       "   'fail',\n",
       "   'fail',\n",
       "   'pass',\n",
       "   'pass',\n",
       "   'fail',\n",
       "   'pass',\n",
       "   'pass',\n",
       "   'pass'],\n",
       "  'exp_y': ['pass',\n",
       "   'pass',\n",
       "   'pass',\n",
       "   'fail',\n",
       "   'fail',\n",
       "   'fail',\n",
       "   'fail',\n",
       "   'fail',\n",
       "   'fail',\n",
       "   'fail',\n",
       "   'pass',\n",
       "   'pass',\n",
       "   'pass',\n",
       "   'fail',\n",
       "   'pass']},\n",
       " {'pass': 8, 'fail': 7},\n",
       " {'pass': 7, 'fail': 8})"
      ]
     },
     "execution_count": 27,
     "metadata": {},
     "output_type": "execute_result"
    }
   ],
   "source": [
    "compare_and_plot('my-experiment-one', 'my-experiment-two', my_metric)"
   ]
  },
  {
   "cell_type": "code",
   "execution_count": null,
   "id": "bb3eec0d",
   "metadata": {},
   "outputs": [],
   "source": []
  }
 ],
 "metadata": {
  "kernelspec": {
   "display_name": "Python (random)",
   "language": "python",
   "name": "random"
  },
  "language_info": {
   "codemirror_mode": {
    "name": "ipython",
    "version": 3
   },
   "file_extension": ".py",
   "mimetype": "text/x-python",
   "name": "python",
   "nbconvert_exporter": "python",
   "pygments_lexer": "ipython3",
   "version": "3.10.16"
  }
 },
 "nbformat": 4,
 "nbformat_minor": 5
}
