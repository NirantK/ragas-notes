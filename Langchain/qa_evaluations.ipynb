{
 "cells": [
  {
   "cell_type": "markdown",
   "id": "59318cef",
   "metadata": {},
   "source": [
    "## Evaluating RAG Systems\n",
    "\n",
    "Langchain has the [data connection](https://python.langchain.com/docs/modules/data_connection/) module which helps you connect your own data with LLMs and build Retrieval Augmented Generation pipelines. We will be testing out\n",
    "\n",
    "1. QA\n",
    "2. COT_QA\n",
    "2. CONTEXT_QA\n",
    "\n",
    "\n",
    "Lets see how we can evaluate those but first lets build a QA system to test."
   ]
  },
  {
   "cell_type": "code",
   "execution_count": 40,
   "id": "8d639c00",
   "metadata": {},
   "outputs": [],
   "source": [
    "from langchain.document_loaders import TextLoader\n",
    "from langchain.indexes import VectorstoreIndexCreator\n",
    "\n",
    "loader = TextLoader(\"nyc_text.txt\")\n",
    "index = VectorstoreIndexCreator().from_loaders([loader])"
   ]
  },
  {
   "cell_type": "code",
   "execution_count": 57,
   "id": "03dfcfa3",
   "metadata": {},
   "outputs": [
    {
     "data": {
      "text/plain": [
       "' New York City was named after King Charles II of England, who granted the lands to his brother, the Duke of York.'"
      ]
     },
     "execution_count": 57,
     "metadata": {},
     "output_type": "execute_result"
    }
   ],
   "source": [
    "question = \"How did New York City get its name?\"\n",
    "index.query(question)"
   ]
  },
  {
   "cell_type": "code",
   "execution_count": 60,
   "id": "911beea6",
   "metadata": {},
   "outputs": [
    {
     "name": "stdout",
     "output_type": "stream",
     "text": [
      "4\n"
     ]
    },
    {
     "data": {
      "text/plain": [
       "Document(page_content=\"== Etymology ==\\n\\nIn 1664, New York was named in honor of the Duke of York, who would become King James II of England. James's elder brother, King Charles II, appointed the Duke as proprietor of the former territory of New Netherland, including the city of New Amsterdam, when England seized it from Dutch control.\\n\\n\\n== History ==\", metadata={'source': 'nyc_text.txt'})"
      ]
     },
     "execution_count": 60,
     "metadata": {},
     "output_type": "execute_result"
    }
   ],
   "source": [
    "from langchain.chains import RetrievalQA\n",
    "from langchain.chat_models import ChatOpenAI\n",
    "\n",
    "llm = ChatOpenAI()\n",
    "qa_chain = RetrievalQA.from_chain_type(\n",
    "    llm,\n",
    "    retriever=index.vectorstore.as_retriever(),\n",
    "    return_source_documents=True\n",
    ")\n",
    "result = qa_chain({\"query\": question})\n",
    "print(len(result['source_documents']))\n",
    "result['source_documents'][0]"
   ]
  },
  {
   "cell_type": "code",
   "execution_count": 66,
   "id": "327ac438",
   "metadata": {},
   "outputs": [],
   "source": [
    "examples = [{\n",
    "    \"query\": \"How did New York City get its name?\",\n",
    "    \"context\": [\"\\n\".join([c.page_content for c in result[\"source_documents\"]])],\n",
    "    \"answer\": \"New York City got its name after the Duke of York (the future King James II and VII), who was given part of the colony by proprietors George Carteret and John Berkeley. The settlement was promptly renamed 'New York' after the Duke of York.\"\n",
    "}]\n",
    "\n",
    "predictions = []"
   ]
  },
  {
   "cell_type": "code",
   "execution_count": 67,
   "id": "23c64318",
   "metadata": {},
   "outputs": [],
   "source": [
    "for e in examples:\n",
    "    predictions.append(\n",
    "        {\"result\": index.query(e[\"query\"])}\n",
    "    )"
   ]
  },
  {
   "cell_type": "code",
   "execution_count": 72,
   "id": "fc9b8257",
   "metadata": {},
   "outputs": [],
   "source": [
    "qa_eval = load_evaluator(EvaluatorType.QA)\n",
    "cot_qa_eval = load_evaluator(EvaluatorType.COT_QA)\n",
    "context_qa_eval = load_evaluator(EvaluatorType.CONTEXT_QA)"
   ]
  },
  {
   "cell_type": "code",
   "execution_count": 69,
   "id": "cc3496c7",
   "metadata": {},
   "outputs": [
    {
     "data": {
      "text/plain": [
       "[{'results': 'CORRECT'}]"
      ]
     },
     "execution_count": 69,
     "metadata": {},
     "output_type": "execute_result"
    }
   ],
   "source": [
    "qa_evaluator.evaluate(examples, predictions)"
   ]
  },
  {
   "cell_type": "code",
   "execution_count": 71,
   "id": "781ab458",
   "metadata": {},
   "outputs": [
    {
     "data": {
      "text/plain": [
       "[{'text': \"The context states that New York was named in honor of the Duke of York, who would become King James II of England. King Charles II, the Duke's elder brother, appointed the Duke as proprietor of the former territory of New Netherland, including the city of New Amsterdam, when England seized it from Dutch control. The student's answer states that New York City was named after King Charles II of England, who granted the lands to his brother, the Duke of York. This is incorrect because the city was named after the Duke of York, not King Charles II. \\nGRADE: INCORRECT\"}]"
      ]
     },
     "execution_count": 71,
     "metadata": {},
     "output_type": "execute_result"
    }
   ],
   "source": [
    "cot_qa_eval.evaluate(examples, predictions)"
   ]
  },
  {
   "cell_type": "code",
   "execution_count": 73,
   "id": "f865b34e",
   "metadata": {},
   "outputs": [
    {
     "data": {
      "text/plain": [
       "[{'text': 'CORRECT'}]"
      ]
     },
     "execution_count": 73,
     "metadata": {},
     "output_type": "execute_result"
    }
   ],
   "source": [
    "context_qa_eval.evaluate(examples, predictions)"
   ]
  },
  {
   "cell_type": "code",
   "execution_count": null,
   "id": "d8ef038f",
   "metadata": {},
   "outputs": [],
   "source": []
  }
 ],
 "metadata": {
  "kernelspec": {
   "display_name": "Python 3 (ipykernel)",
   "language": "python",
   "name": "python3"
  },
  "language_info": {
   "codemirror_mode": {
    "name": "ipython",
    "version": 3
   },
   "file_extension": ".py",
   "mimetype": "text/x-python",
   "name": "python",
   "nbconvert_exporter": "python",
   "pygments_lexer": "ipython3",
   "version": "3.10.12"
  }
 },
 "nbformat": 4,
 "nbformat_minor": 5
}
