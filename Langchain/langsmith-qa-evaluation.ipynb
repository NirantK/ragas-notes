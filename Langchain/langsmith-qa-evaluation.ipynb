{
 "cells": [
  {
   "cell_type": "code",
   "execution_count": 12,
   "id": "552fd1bb",
   "metadata": {},
   "outputs": [],
   "source": [
    "question = \"How did New York City get its name?\""
   ]
  },
  {
   "cell_type": "code",
   "execution_count": 10,
   "id": "5512ea49",
   "metadata": {},
   "outputs": [],
   "source": [
    "# building a dataset from llamaindex\n",
    "\n",
    "from llama_index import VectorStoreIndex, SimpleDirectoryReader, Document\n",
    "\n",
    "with open(\"./nyc_text.txt\") as f:\n",
    "    docs = [Document(text=f.read())]"
   ]
  },
  {
   "cell_type": "code",
   "execution_count": 14,
   "id": "721bd936",
   "metadata": {},
   "outputs": [],
   "source": [
    "from langchain.document_loaders import TextLoader\n",
    "from langchain.indexes import VectorstoreIndexCreator\n",
    "from langchain.chat_models import ChatOpenAI\n",
    "\n",
    "llm = ChatOpenAI()\n",
    "loader = TextLoader(\"nyc_text.txt\")\n",
    "index = VectorstoreIndexCreator().from_loaders([loader])"
   ]
  },
  {
   "cell_type": "code",
   "execution_count": 15,
   "id": "ea50b457",
   "metadata": {},
   "outputs": [
    {
     "name": "stdout",
     "output_type": "stream",
     "text": [
      "4\n"
     ]
    },
    {
     "data": {
      "text/plain": [
       "['query', 'result', 'source_documents']"
      ]
     },
     "execution_count": 15,
     "metadata": {},
     "output_type": "execute_result"
    }
   ],
   "source": [
    "from langchain.chains import RetrievalQA\n",
    "\n",
    "qa_chain = RetrievalQA.from_chain_type(\n",
    "    llm,\n",
    "    retriever=index.vectorstore.as_retriever(),\n",
    "    return_source_documents=True\n",
    ")\n",
    "result = qa_chain({\"query\": question})\n",
    "print(len(result['source_documents']))\n",
    "\n",
    "list(result.keys())"
   ]
  },
  {
   "cell_type": "code",
   "execution_count": 9,
   "id": "24b2b760",
   "metadata": {},
   "outputs": [
    {
     "data": {
      "text/plain": [
       "['What is the population of New York City as of 2020?',\n",
       " 'Which borough of New York City has the highest population?',\n",
       " 'What is the economic significance of New York City?',\n",
       " 'How did New York City get its name?',\n",
       " 'What is the significance of the Statue of Liberty in New York City?']"
      ]
     },
     "execution_count": 9,
     "metadata": {},
     "output_type": "execute_result"
    }
   ],
   "source": [
    "from llama_index.evaluation import DatasetGenerator\n",
    "\n",
    "question_generator = DatasetGenerator.from_documents(docs)\n",
    "eval_questions = question_generator.generate_questions_from_nodes(5)\n",
    "\n",
    "eval_questions"
   ]
  },
  {
   "cell_type": "code",
   "execution_count": null,
   "id": "b54b5442",
   "metadata": {},
   "outputs": [],
   "source": [
    "im"
   ]
  },
  {
   "cell_type": "code",
   "execution_count": 17,
   "id": "d8dd5262",
   "metadata": {},
   "outputs": [
    {
     "name": "stderr",
     "output_type": "stream",
     "text": [
      "100%|████████████████████████████████████████████████████████████| 5/5 [00:14<00:00,  2.95s/it]\n"
     ]
    }
   ],
   "source": [
    "from tqdm import tqdm \n",
    "\n",
    "results = []\n",
    "\n",
    "for q in tqdm(eval_questions):\n",
    "    results.append(qa_chain({\"query\": q}))"
   ]
  },
  {
   "cell_type": "code",
   "execution_count": 22,
   "id": "14369354",
   "metadata": {},
   "outputs": [
    {
     "data": {
      "text/plain": [
       "UUID('2294b0a7-0a89-4530-ba2b-e5b1ced7f23f')"
      ]
     },
     "execution_count": 22,
     "metadata": {},
     "output_type": "execute_result"
    }
   ],
   "source": [
    "from langsmith import Client\n",
    "\n",
    "client = Client()\n",
    "dataset_name = \"NYC Wiki\"\n",
    "\n",
    "dataset = client.read_dataset(dataset_name=dataset_name)\n",
    "dataset.id"
   ]
  },
  {
   "cell_type": "code",
   "execution_count": 18,
   "id": "b6e20edf",
   "metadata": {},
   "outputs": [
    {
     "data": {
      "text/plain": [
       "[{'query': 'What is the population of New York City as of 2020?',\n",
       "  'result': 'The population of New York City as of 2020 is 8,804,190.',\n",
       "  'source_documents': [Document(page_content=\"New York City is the most populous city in the United States, with 8,804,190 residents incorporating more immigration into the city than outmigration since the 2010 United States census. More than twice as many people live in New York City as compared to Los Angeles, the second-most populous U.S. city; and New York has more than three times the population of Chicago, the third-most populous U.S. city. New York City gained more residents between 2010 and 2020 (629,000) than any other U.S. city, and a greater amount than the total sum of the gains over the same decade of the next four largest U.S. cities, Los Angeles, Chicago, Houston, and Phoenix, Arizona combined. New York City's population is about 44% of New York State's population, and about 39% of the population of the New York metropolitan area. The majority of New York City residents in 2020 (5,141,538, or 58.4%) were living on Long Island, in Brooklyn, or in Queens. The New York City metropolitan statistical area, has the\", metadata={'source': 'nyc_text.txt'}),\n",
       "   Document(page_content=\"New York City is the most populous city in the United States, with 8,804,190 residents incorporating more immigration into the city than outmigration since the 2010 United States census. More than twice as many people live in New York City as compared to Los Angeles, the second-most populous U.S. city; and New York has more than three times the population of Chicago, the third-most populous U.S. city. New York City gained more residents between 2010 and 2020 (629,000) than any other U.S. city, and a greater amount than the total sum of the gains over the same decade of the next four largest U.S. cities, Los Angeles, Chicago, Houston, and Phoenix, Arizona combined. New York City's population is about 44% of New York State's population, and about 39% of the population of the New York metropolitan area. The majority of New York City residents in 2020 (5,141,538, or 58.4%) were living on Long Island, in Brooklyn, or in Queens. The New York City metropolitan statistical area, has the\", metadata={'source': 'nyc_text.txt'}),\n",
       "   Document(page_content=\"New York City is the most populous city in the United States, with 8,804,190 residents incorporating more immigration into the city than outmigration since the 2010 United States census. More than twice as many people live in New York City as compared to Los Angeles, the second-most populous U.S. city; and New York has more than three times the population of Chicago, the third-most populous U.S. city. New York City gained more residents between 2010 and 2020 (629,000) than any other U.S. city, and a greater amount than the total sum of the gains over the same decade of the next four largest U.S. cities, Los Angeles, Chicago, Houston, and Phoenix, Arizona combined. New York City's population is about 44% of New York State's population, and about 39% of the population of the New York metropolitan area. The majority of New York City residents in 2020 (5,141,538, or 58.4%) were living on Long Island, in Brooklyn, or in Queens. The New York City metropolitan statistical area, has the\", metadata={'source': 'nyc_text.txt'}),\n",
       "   Document(page_content=\"New York, often called New York City or NYC, is the most populous city in the United States. With a 2020 population of 8,804,190 distributed over 300.46 square miles (778.2 km2), New York City is the most densely populated major city in the United States and more than twice as populous as Los Angeles, the nation's second-largest city. New York City is located at the southern tip of New York State. It constitutes the geographical and demographic center of both the Northeast megalopolis and the New York metropolitan area, the largest metropolitan area in the U.S. by both population and urban area. With over 20.1 million people in its metropolitan statistical area and 23.5 million in its combined statistical area as of 2020, New York is one of the world's most populous megacities, and over 58 million people live within 250 mi (400 km) of the city. New York City is a global cultural, financial, entertainment, and media center with a significant influence on commerce, health care and life\", metadata={'source': 'nyc_text.txt'})]},\n",
       " {'query': 'Which borough of New York City has the highest population?',\n",
       "  'result': 'The borough of Manhattan has the highest population density in New York City.',\n",
       "  'source_documents': [Document(page_content=\"Manhattan (New York County) is the geographically smallest and most densely populated borough. It is home to Central Park and most of the city's skyscrapers, and is sometimes locally known as The City. Manhattan's population density of 72,033 people per square mile (27,812/km2) in 2015 makes it the highest of any county in the United States and higher than the density of any individual American city.Manhattan is the cultural, administrative, and financial center of New York City and contains the headquarters of many major multinational corporations, the United Nations headquarters, Wall Street, and a number of important universities. The borough of Manhattan is often described as the financial and cultural center of the world.Most of the borough is situated on Manhattan Island, at the mouth of the Hudson River and the East River, and its southern tip, at the confluence of the two rivers, represents the birthplace of New York City itself. Several small islands also compose part of the\", metadata={'source': 'nyc_text.txt'}),\n",
       "   Document(page_content=\"Manhattan (New York County) is the geographically smallest and most densely populated borough. It is home to Central Park and most of the city's skyscrapers, and is sometimes locally known as The City. Manhattan's population density of 72,033 people per square mile (27,812/km2) in 2015 makes it the highest of any county in the United States and higher than the density of any individual American city.Manhattan is the cultural, administrative, and financial center of New York City and contains the headquarters of many major multinational corporations, the United Nations headquarters, Wall Street, and a number of important universities. The borough of Manhattan is often described as the financial and cultural center of the world.Most of the borough is situated on Manhattan Island, at the mouth of the Hudson River and the East River, and its southern tip, at the confluence of the two rivers, represents the birthplace of New York City itself. Several small islands also compose part of the\", metadata={'source': 'nyc_text.txt'}),\n",
       "   Document(page_content=\"Manhattan (New York County) is the geographically smallest and most densely populated borough. It is home to Central Park and most of the city's skyscrapers, and is sometimes locally known as The City. Manhattan's population density of 72,033 people per square mile (27,812/km2) in 2015 makes it the highest of any county in the United States and higher than the density of any individual American city.Manhattan is the cultural, administrative, and financial center of New York City and contains the headquarters of many major multinational corporations, the United Nations headquarters, Wall Street, and a number of important universities. The borough of Manhattan is often described as the financial and cultural center of the world.Most of the borough is situated on Manhattan Island, at the mouth of the Hudson River and the East River, and its southern tip, at the confluence of the two rivers, represents the birthplace of New York City itself. Several small islands also compose part of the\", metadata={'source': 'nyc_text.txt'}),\n",
       "   Document(page_content=\"=== Population density ===\\n\\nIn 2020, the city had an estimated population density of 29,302.37 inhabitants per square mile (11,313.71/km2), rendering it the nation's most densely populated of all larger municipalities (those with more than 100,000 residents), with several small cities (of fewer than 100,000) in adjacent Hudson County, New Jersey having greater density, as per the 2010 census. Geographically co-extensive with New York County, the borough of Manhattan's 2017 population density of 72,918 inhabitants per square mile (28,154/km2) makes it the highest of any county in the United States and higher than the density of any individual American city. The next three densest counties in the United States, placing second through fourth, are also New York boroughs: Brooklyn, the Bronx, and Queens respectively.\\n\\n\\n=== Race and ethnicity ===\", metadata={'source': 'nyc_text.txt'})]},\n",
       " {'query': 'What is the economic significance of New York City?',\n",
       "  'result': \"New York City's economic significance lies in its role as the headquarters for the U.S. financial industry, commonly known as Wall Street. The city's securities industry is the largest segment of its financial sector and serves as a major economic engine. Many large financial companies are based in New York City, and the city is also home to a growing number of financial startups. Additionally, non-profit institutions, universities, and manufacturing (particularly in smaller operations) contribute to the city's economy. The apparel and garment industry, although in decline, has historical significance. The city is also a major player in the chocolate and food processing industries.\",\n",
       "  'source_documents': [Document(page_content=\"New York City's most important economic sector lies in its role as the headquarters for the U.S. financial industry, metonymously known as Wall Street. The city's securities industry continues to form the largest segment of the city's financial sector and is an important economic engine. Many large financial companies are headquartered in New York City, and the city is also home to a burgeoning number of financial startup companies.\", metadata={'source': 'nyc_text.txt'}),\n",
       "   Document(page_content=\"New York City's most important economic sector lies in its role as the headquarters for the U.S. financial industry, metonymously known as Wall Street. The city's securities industry continues to form the largest segment of the city's financial sector and is an important economic engine. Many large financial companies are headquartered in New York City, and the city is also home to a burgeoning number of financial startup companies.\", metadata={'source': 'nyc_text.txt'}),\n",
       "   Document(page_content=\"New York City's most important economic sector lies in its role as the headquarters for the U.S. financial industry, metonymously known as Wall Street. The city's securities industry continues to form the largest segment of the city's financial sector and is an important economic engine. Many large financial companies are headquartered in New York City, and the city is also home to a burgeoning number of financial startup companies.\", metadata={'source': 'nyc_text.txt'}),\n",
       "   Document(page_content=\"Significant economic sectors also include non-profit institutions, and universities. Manufacturing declined over the 20th century but still accounts for significant employment. particularly in smaller operations. The city's apparel and garment industry, historically centered on the Garment District in Manhattan, peaked in 1950, when more than 323,000 workers were employed in the industry in New York. In 2015, fewer than 23,000 New York City residents were employed in the manufacture of garments, accessories, and finished textiles, although efforts to revive the industry were underway, and the American fashion industry continues to be metonymized as Seventh Avenue.Chocolate is New York City's leading specialty-food export, with up to $234 million worth of exports each year. Godiva, one of the world's largest chocolatiers, is headquartered in Manhattan, and an unofficial chocolate district in Brooklyn is home to several chocolate makers and retailers. Food processing is a $5 billion\", metadata={'source': 'nyc_text.txt'})]},\n",
       " {'query': 'How did New York City get its name?',\n",
       "  'result': 'New York City got its name in 1664 when it was renamed in honor of the Duke of York, who later became King James II of England. This renaming occurred when England seized the former territory of New Netherland, including the city of New Amsterdam, from Dutch control.',\n",
       "  'source_documents': [Document(page_content=\"== Etymology ==\\n\\nIn 1664, New York was named in honor of the Duke of York, who would become King James II of England. James's elder brother, King Charles II, appointed the Duke as proprietor of the former territory of New Netherland, including the city of New Amsterdam, when England seized it from Dutch control.\\n\\n\\n== History ==\", metadata={'source': 'nyc_text.txt'}),\n",
       "   Document(page_content=\"== Etymology ==\\n\\nIn 1664, New York was named in honor of the Duke of York, who would become King James II of England. James's elder brother, King Charles II, appointed the Duke as proprietor of the former territory of New Netherland, including the city of New Amsterdam, when England seized it from Dutch control.\\n\\n\\n== History ==\", metadata={'source': 'nyc_text.txt'}),\n",
       "   Document(page_content=\"== Etymology ==\\n\\nIn 1664, New York was named in honor of the Duke of York, who would become King James II of England. James's elder brother, King Charles II, appointed the Duke as proprietor of the former territory of New Netherland, including the city of New Amsterdam, when England seized it from Dutch control.\\n\\n\\n== History ==\", metadata={'source': 'nyc_text.txt'}),\n",
       "   Document(page_content='The city and its metropolitan area constitute the premier gateway for legal immigration to the United States. As many as 800 languages are spoken in New York, making it the most linguistically diverse city in the world. New York City is home to more than 3.2 million residents born outside the U.S., the largest foreign-born population of any city in the world as of 2016.New York City traces its origins to a trading post founded on the southern tip of Manhattan Island by Dutch colonists in approximately 1624. The settlement was named New Amsterdam (Dutch: Nieuw Amsterdam) in 1626 and was chartered as a city in 1653. The city came under British control in 1664 and was renamed New York after King Charles II of England granted the lands to his brother, the Duke of York. The city was regained by the Dutch in July 1673 and was renamed New Orange for one year and three months; the city has been continuously named New York since November 1674. New York City was the capital of the United States', metadata={'source': 'nyc_text.txt'})]},\n",
       " {'query': 'What is the significance of the Statue of Liberty in New York City?',\n",
       "  'result': 'The Statue of Liberty in New York City is significant as it greeted millions of immigrants who came to the U.S. in the late 19th and early 20th centuries. It has become a symbol of the U.S. and its ideals of liberty and peace. Additionally, the Statue of Liberty represents freedom and cultural diversity, which are core values of New York City.',\n",
       "  'source_documents': [Document(page_content='from 1785 until 1790, and has been the largest U.S. city since 1790. The Statue of Liberty greeted millions of immigrants as they came to the U.S. by ship in the late 19th and early 20th centuries, and is a symbol of the U.S. and its ideals of liberty and peace. In the 21st century, New York City has emerged as a global node of creativity, entrepreneurship, and as a symbol of freedom and cultural diversity. The New York Times has won the most Pulitzer Prizes for journalism and remains the U.S. media\\'s \"newspaper of record\". In 2019, New York City was voted the greatest city in the world in a survey of over 30,000 people from 48 cities worldwide, citing its cultural diversity.Many districts and monuments in New York City are major landmarks, including three of the world\\'s ten most visited tourist attractions in 2013. A record 66.6 million tourists visited New York City in 2019. Times Square is the brightly illuminated hub of the Broadway Theater District, one of the world\\'s busiest', metadata={'source': 'nyc_text.txt'}),\n",
       "   Document(page_content='from 1785 until 1790, and has been the largest U.S. city since 1790. The Statue of Liberty greeted millions of immigrants as they came to the U.S. by ship in the late 19th and early 20th centuries, and is a symbol of the U.S. and its ideals of liberty and peace. In the 21st century, New York City has emerged as a global node of creativity, entrepreneurship, and as a symbol of freedom and cultural diversity. The New York Times has won the most Pulitzer Prizes for journalism and remains the U.S. media\\'s \"newspaper of record\". In 2019, New York City was voted the greatest city in the world in a survey of over 30,000 people from 48 cities worldwide, citing its cultural diversity.Many districts and monuments in New York City are major landmarks, including three of the world\\'s ten most visited tourist attractions in 2013. A record 66.6 million tourists visited New York City in 2019. Times Square is the brightly illuminated hub of the Broadway Theater District, one of the world\\'s busiest', metadata={'source': 'nyc_text.txt'}),\n",
       "   Document(page_content='from 1785 until 1790, and has been the largest U.S. city since 1790. The Statue of Liberty greeted millions of immigrants as they came to the U.S. by ship in the late 19th and early 20th centuries, and is a symbol of the U.S. and its ideals of liberty and peace. In the 21st century, New York City has emerged as a global node of creativity, entrepreneurship, and as a symbol of freedom and cultural diversity. The New York Times has won the most Pulitzer Prizes for journalism and remains the U.S. media\\'s \"newspaper of record\". In 2019, New York City was voted the greatest city in the world in a survey of over 30,000 people from 48 cities worldwide, citing its cultural diversity.Many districts and monuments in New York City are major landmarks, including three of the world\\'s ten most visited tourist attractions in 2013. A record 66.6 million tourists visited New York City in 2019. Times Square is the brightly illuminated hub of the Broadway Theater District, one of the world\\'s busiest', metadata={'source': 'nyc_text.txt'}),\n",
       "   Document(page_content=\"The Statue of Liberty National Monument and Ellis Island Immigration Museum are managed by the National Park Service and are in both New York and New Jersey. They are joined in the harbor by Governors Island National Monument. Historic sites under federal management on Manhattan Island include Stonewall National Monument; Castle Clinton National Monument; Federal Hall National Memorial; Theodore Roosevelt Birthplace National Historic Site; General Grant National Memorial (Grant's Tomb); African Burial Ground National Monument; and Hamilton Grange National Memorial. Hundreds of properties are listed on the National Register of Historic Places or as a National Historic Landmark.\", metadata={'source': 'nyc_text.txt'})]}]"
      ]
     },
     "execution_count": 18,
     "metadata": {},
     "output_type": "execute_result"
    }
   ],
   "source": [
    "results"
   ]
  },
  {
   "cell_type": "code",
   "execution_count": 23,
   "id": "bb405a2d",
   "metadata": {},
   "outputs": [],
   "source": [
    "for e in results:\n",
    "    client.create_example(\n",
    "        inputs={\n",
    "            \"question\": e[\"query\"],\n",
    "            \"answer\": e[\"result\"],\n",
    "            \"contexts\": [s.page_content for s in e[\"source_documents\"]],\n",
    "        },\n",
    "        dataset_id=dataset.id,\n",
    "    )"
   ]
  },
  {
   "cell_type": "code",
   "execution_count": null,
   "id": "84f8837a",
   "metadata": {},
   "outputs": [],
   "source": [
    "from typing import Optional\n",
    "\n",
    "from evaluate import load\n",
    "from langsmith.evaluation import EvaluationResult, RunEvaluator\n",
    "from langsmith.schemas import Example, Run\n",
    "\n",
    "\n",
    "class Ragas(RunEvaluator):\n",
    "    def __init__(self, prediction_key: Optional[str] = None, model_id: str = \"gpt-2\"):\n",
    "        self.prediction_key = prediction_key\n",
    "        self.model_id = model_id\n",
    "        self.metric_fn = load(\"perplexity\", module_type=\"metric\")\n",
    "\n",
    "    def evaluate_run(\n",
    "        self, run: Run, example: Optional[Example] = None\n",
    "    ) -> EvaluationResult:\n",
    "        if run.outputs is None:\n",
    "            raise ValueError(\"Run outputs cannot be None\")\n",
    "        prediction = run.outputs[self.prediction_key]\n",
    "        results = self.metric_fn.compute(\n",
    "            predictions=[prediction], model_id=self.model_id\n",
    "        )\n",
    "        ppl = results[\"perplexities\"][0]\n",
    "        return EvaluationResult(key=\"Perplexity\", score=ppl)"
   ]
  }
 ],
 "metadata": {
  "kernelspec": {
   "display_name": "Python 3 (ipykernel)",
   "language": "python",
   "name": "python3"
  },
  "language_info": {
   "codemirror_mode": {
    "name": "ipython",
    "version": 3
   },
   "file_extension": ".py",
   "mimetype": "text/x-python",
   "name": "python",
   "nbconvert_exporter": "python",
   "pygments_lexer": "ipython3",
   "version": "3.10.12"
  }
 },
 "nbformat": 4,
 "nbformat_minor": 5
}
